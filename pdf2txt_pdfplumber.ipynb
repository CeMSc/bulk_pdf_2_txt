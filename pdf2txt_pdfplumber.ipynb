{
 "cells": [
  {
   "cell_type": "code",
   "execution_count": 4,
   "metadata": {},
   "outputs": [],
   "source": [
    "import os\n",
    "import pdfplumber"
   ]
  },
  {
   "cell_type": "code",
   "execution_count": 5,
   "metadata": {},
   "outputs": [],
   "source": [
    "def pdf_to_text(pdf_path):\n",
    "    with pdfplumber.open(pdf_path) as pdf:\n",
    "        text = ''\n",
    "        for page in pdf.pages:\n",
    "            page_text = page.extract_text()\n",
    "            if page_text:\n",
    "                text += page_text.replace('\\n', ' ')\n",
    "        return text\n",
    "\n",
    "def save_text_file(text, output_path):\n",
    "    with open(output_path, 'w', encoding='utf-8') as file:\n",
    "        file.write(text)\n",
    "\n",
    "def main():\n",
    "    input_folder = 'PDF'\n",
    "    output_folder = 'TXT'\n",
    "\n",
    "    if not os.path.exists(output_folder):\n",
    "        os.makedirs(output_folder)\n",
    "\n",
    "    for filename in os.listdir(input_folder):\n",
    "        if filename.endswith('.pdf'):\n",
    "            pdf_path = os.path.join(input_folder, filename)\n",
    "            txt_filename = os.path.splitext(filename)[0] + '.txt'\n",
    "            txt_path = os.path.join(output_folder, txt_filename)\n",
    "\n",
    "            try:\n",
    "                text = pdf_to_text(pdf_path)\n",
    "            except Exception as e:\n",
    "                print(f\"Error processing {filename}: {e}\")\n",
    "                continue\n",
    "\n",
    "            save_text_file(text, txt_path)\n",
    "            print(f\"Converted {filename} to {txt_filename}\")"
   ]
  },
  {
   "cell_type": "code",
   "execution_count": 6,
   "metadata": {},
   "outputs": [
    {
     "name": "stdout",
     "output_type": "stream",
     "text": [
      "Converted REG%CA%EN%2011%Central America Security Strategy%SICA%peace and security.pdf.pdf to REG%CA%EN%2011%Central America Security Strategy%SICA%peace and security.pdf.txt\n",
      "Converted REG%CA%ES%2009%Agro-environmental and Health Regional Stratety%SICA%agriculture and livestock.pdf.pdf to REG%CA%ES%2009%Agro-environmental and Health Regional Stratety%SICA%agriculture and livestock.pdf.txt\n",
      "Converted REG%CA%ES%2010%Estrategia Regional Cambio Climático%SICA%climate and environment.pdf.pdf to REG%CA%ES%2010%Estrategia Regional Cambio Climático%SICA%climate and environment.pdf.txt\n",
      "Converted REG%CA%ES%2010%Rural Development Strategy for CA 2010-2030%SICA%agriculture and livestock.pdf.pdf to REG%CA%ES%2010%Rural Development Strategy for CA 2010-2030%SICA%agriculture and livestock.pdf.txt\n",
      "Converted REG%CA%ES%2012%Política Regional de Desarrollo Fruticultura%SICA%agriculture and livestock.pdf.pdf to REG%CA%ES%2012%Política Regional de Desarrollo Fruticultura%SICA%agriculture and livestock.pdf.txt\n",
      "Converted REG%CA%ES%2013%Forests and Climate Change%SICA%climate and environment.pdf.pdf to REG%CA%ES%2013%Forests and Climate Change%SICA%climate and environment.pdf.txt\n",
      "Converted REG%CA%ES%2013%Política Regional de Igualdad y Equidad de Género%SICA%gender.pdf.pdf to REG%CA%ES%2013%Política Regional de Igualdad y Equidad de Género%SICA%gender.pdf.txt\n",
      "Converted REG%CA%ES%2014%Estrategia Regional Ambiental Marco 2015-2020%SICA%climate and environment.pdf.pdf to REG%CA%ES%2014%Estrategia Regional Ambiental Marco 2015-2020%SICA%climate and environment.pdf.txt\n",
      "Converted REG%CA%ES%2015%Resolución sobre Mujeres, Paz y Seguridad%SICA%peace and security.pdf.pdf to REG%CA%ES%2015%Resolución sobre Mujeres, Paz y Seguridad%SICA%peace and security.pdf.txt\n",
      "Converted REG%CA%ES%2017%CA Policy on Risk Management%SICA%DRR.pdf.pdf to REG%CA%ES%2017%CA Policy on Risk Management%SICA%DRR.pdf.txt\n",
      "Converted REG%CA%ES%2017%Sustainable Agriculture Strategy 2018-2030%SICA%agriculture and livestock.pdf.pdf to REG%CA%ES%2017%Sustainable Agriculture Strategy 2018-2030%SICA%agriculture and livestock.pdf.txt\n",
      "Converted REG%CA%ES%2018%Regional Programme for Forest Ecosystem Management%SICA%climate and environment.pdf.pdf to REG%CA%ES%2018%Regional Programme for Forest Ecosystem Management%SICA%climate and environment.pdf.txt\n",
      "Converted REG%CA%ES%2019%Updated Climate Change Regional Strategy%SICA%climate and environment.pdf.pdf to REG%CA%ES%2019%Updated Climate Change Regional Strategy%SICA%climate and environment.pdf.txt\n",
      "Converted REG%CA%ES%2020%Estrategia Regional Crecimiento Azul%SICA%climate and environment.pdf.pdf to REG%CA%ES%2020%Estrategia Regional Crecimiento Azul%SICA%climate and environment.pdf.txt\n",
      "Converted REG%CA%ES%2020%Regional Comprehensive Social Policy 2020-2040%SICA%develoment.pdf.pdf to REG%CA%ES%2020%Regional Comprehensive Social Policy 2020-2040%SICA%develoment.pdf.txt\n",
      "Converted REG%CA%ES%2020%Social Reconstruction and Resilience Plan%SICA%development.pdf.pdf to REG%CA%ES%2020%Social Reconstruction and Resilience Plan%SICA%development.pdf.txt\n"
     ]
    }
   ],
   "source": [
    "if __name__ == \"__main__\":\n",
    "    main()"
   ]
  }
 ],
 "metadata": {
  "kernelspec": {
   "display_name": "base",
   "language": "python",
   "name": "python3"
  },
  "language_info": {
   "codemirror_mode": {
    "name": "ipython",
    "version": 3
   },
   "file_extension": ".py",
   "mimetype": "text/x-python",
   "name": "python",
   "nbconvert_exporter": "python",
   "pygments_lexer": "ipython3",
   "version": "3.10.9"
  },
  "orig_nbformat": 4
 },
 "nbformat": 4,
 "nbformat_minor": 2
}
