{
 "cells": [
  {
   "cell_type": "code",
   "execution_count": 1,
   "metadata": {},
   "outputs": [],
   "source": [
    "import os\n",
    "import pdfplumber"
   ]
  },
  {
   "cell_type": "code",
   "execution_count": 2,
   "metadata": {},
   "outputs": [],
   "source": [
    "def pdf_to_text(pdf_path):\n",
    "    with pdfplumber.open(pdf_path) as pdf:\n",
    "        text = ''\n",
    "        for page in pdf.pages:\n",
    "            page_text = page.extract_text()\n",
    "            if page_text:\n",
    "                text += page_text.replace('\\n', ' ')\n",
    "        return text\n",
    "\n",
    "def save_text_file(text, output_path):\n",
    "    with open(output_path, 'w', encoding='utf-8') as file:\n",
    "        file.write(text)\n",
    "\n",
    "def main():\n",
    "    input_folder = 'PDF'\n",
    "    output_folder = 'TXT'\n",
    "\n",
    "    if not os.path.exists(output_folder):\n",
    "        os.makedirs(output_folder)\n",
    "\n",
    "    for filename in os.listdir(input_folder):\n",
    "        if filename.endswith('.pdf'):\n",
    "            pdf_path = os.path.join(input_folder, filename)\n",
    "            txt_filename = os.path.splitext(filename)[0] + '.txt'\n",
    "            txt_path = os.path.join(output_folder, txt_filename)\n",
    "\n",
    "            try:\n",
    "                text = pdf_to_text(pdf_path)\n",
    "            except Exception as e:\n",
    "                print(f\"Error processing {filename}: {e}\")\n",
    "                continue\n",
    "\n",
    "            save_text_file(text, txt_path)\n",
    "            print(f\"Converted {filename} to {txt_filename}\")"
   ]
  },
  {
   "cell_type": "code",
   "execution_count": 3,
   "metadata": {},
   "outputs": [
    {
     "name": "stdout",
     "output_type": "stream",
     "text": [
      "Converted 2011%Methane Utilization%CDM.pdf to 2011%Methane Utilization%CDM.txt\n",
      "Converted 2011%Wonsangunmin Hydropower%CDM.pdf to 2011%Wonsangunmin Hydropower%CDM.txt\n",
      "Converted 2012%CFL Lighting Scheme%CDM.pdf to 2012%CFL Lighting Scheme%CDM.txt\n",
      "Converted 2012%Pulp Wastewater Treatment%CDM.pdf to 2012%Pulp Wastewater Treatment%CDM.txt\n",
      "Converted 2013%Kogonwon Coal Mine%CDM.pdf to 2013%Kogonwon Coal Mine%CDM.txt\n"
     ]
    }
   ],
   "source": [
    "if __name__ == \"__main__\":\n",
    "    main()"
   ]
  }
 ],
 "metadata": {
  "kernelspec": {
   "display_name": "base",
   "language": "python",
   "name": "python3"
  },
  "language_info": {
   "codemirror_mode": {
    "name": "ipython",
    "version": 3
   },
   "file_extension": ".py",
   "mimetype": "text/x-python",
   "name": "python",
   "nbconvert_exporter": "python",
   "pygments_lexer": "ipython3",
   "version": "3.8.13"
  },
  "orig_nbformat": 4
 },
 "nbformat": 4,
 "nbformat_minor": 2
}
